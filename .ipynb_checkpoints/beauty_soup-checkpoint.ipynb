{
 "cells": [
  {
   "cell_type": "code",
   "execution_count": 58,
   "id": "d0a7057d",
   "metadata": {},
   "outputs": [],
   "source": [
    "from bs4 import BeautifulSoup as bs\n",
    "import requests\n",
    "import pandas as pd\n",
    "import re\n",
    "from urllib.parse import urlparse, parse_qs\n",
    "import json"
   ]
  },
  {
   "cell_type": "code",
   "execution_count": 62,
   "id": "12b6864a",
   "metadata": {},
   "outputs": [],
   "source": [
    "\n",
    "url_link=f\"https://www.imdb.com/find/?q=3idiots&ref_=nv_sr_sm\""
   ]
  },
  {
   "cell_type": "code",
   "execution_count": 63,
   "id": "cef33cf4",
   "metadata": {},
   "outputs": [],
   "source": [
    "headers = {'User-Agent': 'Mozilla/5.0'}\n",
    "url=requests.get(url_link,headers=headers)"
   ]
  },
  {
   "cell_type": "code",
   "execution_count": 64,
   "id": "22f840c1",
   "metadata": {},
   "outputs": [
    {
     "data": {
      "text/plain": [
       "<Response [200]>"
      ]
     },
     "execution_count": 64,
     "metadata": {},
     "output_type": "execute_result"
    }
   ],
   "source": [
    "url\n"
   ]
  },
  {
   "cell_type": "code",
   "execution_count": 68,
   "id": "c790ff9e",
   "metadata": {},
   "outputs": [
    {
     "name": "stdout",
     "output_type": "stream",
     "text": [
      "tt1187043\n"
     ]
    }
   ],
   "source": [
    "#lets parse the data using html\n",
    "\n",
    "soup=bs(url.content,'html.parser')\n",
    "script_tag = soup.find('script', type='application/ld+json')\n",
    "script_tag_next = soup.find('script', {'type': 'application/json', 'id': '__NEXT_DATA__'})\n",
    "# print(script_tag_next.prettify())\n",
    "json_content = json.loads(script_tag_next.string)\n",
    "\n",
    "# Extracting id inside titleResults\n",
    "title_results = json_content['props']['pageProps']['titleResults']\n",
    "results_ids = [result['id'] for result in title_results['results']]\n",
    "print(results_ids[0])\n",
    "\n",
    "\n",
    "# # Parse the JSON content within the script tag\n",
    "# json_content = json.loads(script_tag.string)\n",
    "\n",
    "# # Extract the URL key\n",
    "# url_key = json_content['url']\n",
    "# print(\"URL key:\", url_key)"
   ]
  },
  {
   "cell_type": "code",
   "execution_count": 10,
   "id": "b4b86578",
   "metadata": {},
   "outputs": [
    {
     "name": "stdout",
     "output_type": "stream",
     "text": [
      "ul_link : []\n"
     ]
    }
   ],
   "source": [
    "ul_link=[]\n",
    "for div in soup.find_all('div',class_='sc-17bafbdb-2 iUyFfD'):\n",
    "    for clas in div.find_all('class',class_=\"ipc-metadata-list ipc-metadata-list--dividers-after sc-17bafbdb-3 WTcPP ipc-metadata-list--base\"):\n",
    "        testing=clas.text\n",
    "        ul_link.append(testing)\n",
    "print(\"ul_link :\",ul_link)\n"
   ]
  },
  {
   "cell_type": "code",
   "execution_count": 52,
   "id": "d40a20fa",
   "metadata": {},
   "outputs": [
    {
     "data": {
      "text/plain": [
       "[]"
      ]
     },
     "execution_count": 52,
     "metadata": {},
     "output_type": "execute_result"
    }
   ],
   "source": [
    "x=[m.text for m in soup.find_all(class_=\"fc-pewter\")]\n",
    "x"
   ]
  },
  {
   "cell_type": "code",
   "execution_count": null,
   "id": "0429a40b",
   "metadata": {},
   "outputs": [],
   "source": []
  },
  {
   "cell_type": "code",
   "execution_count": 31,
   "id": "47c02e05",
   "metadata": {},
   "outputs": [],
   "source": [
    "cast= soup.find_all(class_='ipc-metadata-list ipc-metadata-list--dividers-after sc-17bafbdb-3 WTcPP ipc-metadata-list--base')\n",
    "# print(cast)\n",
    "# Find all <li> elements within the class \"my-list\"\n",
    "list_items = soup.find_all('li', class_='ipc-metadata-list-summary-item ipc-metadata-list-summary-item--click find-result-item find-title-result')\n",
    "# print(list_items)\n",
    "# Extract and print text content of each <li> element\n",
    "for item in list_items:\n",
    "    print(item.text)\n"
   ]
  },
  {
   "cell_type": "code",
   "execution_count": null,
   "id": "c96f8a5b",
   "metadata": {},
   "outputs": [],
   "source": []
  },
  {
   "cell_type": "code",
   "execution_count": null,
   "id": "056a3a77",
   "metadata": {},
   "outputs": [],
   "source": []
  },
  {
   "cell_type": "code",
   "execution_count": null,
   "id": "8ba7ac33",
   "metadata": {},
   "outputs": [],
   "source": []
  },
  {
   "cell_type": "code",
   "execution_count": null,
   "id": "ac150257",
   "metadata": {},
   "outputs": [],
   "source": []
  },
  {
   "cell_type": "code",
   "execution_count": null,
   "id": "4c92aba6",
   "metadata": {},
   "outputs": [],
   "source": []
  },
  {
   "cell_type": "code",
   "execution_count": null,
   "id": "7b522251",
   "metadata": {},
   "outputs": [],
   "source": []
  },
  {
   "cell_type": "code",
   "execution_count": null,
   "id": "100a38f3",
   "metadata": {},
   "outputs": [],
   "source": []
  },
  {
   "cell_type": "code",
   "execution_count": null,
   "id": "cc89de09",
   "metadata": {},
   "outputs": [],
   "source": []
  },
  {
   "cell_type": "code",
   "execution_count": null,
   "id": "44bbdc3c",
   "metadata": {},
   "outputs": [],
   "source": []
  },
  {
   "cell_type": "code",
   "execution_count": null,
   "id": "f645f27d",
   "metadata": {},
   "outputs": [],
   "source": []
  },
  {
   "cell_type": "code",
   "execution_count": null,
   "id": "b3ca1a44",
   "metadata": {},
   "outputs": [],
   "source": []
  },
  {
   "cell_type": "code",
   "execution_count": null,
   "id": "9196ea62",
   "metadata": {},
   "outputs": [],
   "source": []
  },
  {
   "cell_type": "code",
   "execution_count": null,
   "id": "cae9d7cc",
   "metadata": {},
   "outputs": [],
   "source": []
  },
  {
   "cell_type": "code",
   "execution_count": null,
   "id": "8d5db43e",
   "metadata": {},
   "outputs": [],
   "source": []
  },
  {
   "cell_type": "code",
   "execution_count": null,
   "id": "9cd9f27c",
   "metadata": {},
   "outputs": [],
   "source": []
  },
  {
   "cell_type": "code",
   "execution_count": null,
   "id": "a16211df",
   "metadata": {},
   "outputs": [],
   "source": []
  },
  {
   "cell_type": "code",
   "execution_count": null,
   "id": "f1f1369f",
   "metadata": {},
   "outputs": [],
   "source": []
  },
  {
   "cell_type": "code",
   "execution_count": null,
   "id": "734cc37a",
   "metadata": {},
   "outputs": [],
   "source": []
  },
  {
   "cell_type": "code",
   "execution_count": null,
   "id": "a11050d3",
   "metadata": {},
   "outputs": [],
   "source": []
  },
  {
   "cell_type": "code",
   "execution_count": null,
   "id": "911a567f",
   "metadata": {},
   "outputs": [],
   "source": []
  },
  {
   "cell_type": "code",
   "execution_count": null,
   "id": "985ff7f1",
   "metadata": {},
   "outputs": [],
   "source": []
  },
  {
   "cell_type": "markdown",
   "id": "50f5feaf",
   "metadata": {},
   "source": [
    "# specific movie----------------------------------------------------------------------------------------"
   ]
  },
  {
   "cell_type": "code",
   "execution_count": null,
   "id": "f1a4ec6b",
   "metadata": {},
   "outputs": [],
   "source": []
  },
  {
   "cell_type": "code",
   "execution_count": null,
   "id": "f3691918",
   "metadata": {},
   "outputs": [],
   "source": []
  },
  {
   "cell_type": "code",
   "execution_count": 19,
   "id": "1757ebb7",
   "metadata": {},
   "outputs": [],
   "source": [
    "url_link=\"https://www.imdb.com/title/tt1187043\""
   ]
  },
  {
   "cell_type": "code",
   "execution_count": 20,
   "id": "b7e31997",
   "metadata": {},
   "outputs": [],
   "source": [
    "url=requests.get(url_link,headers=headers)"
   ]
  },
  {
   "cell_type": "code",
   "execution_count": 21,
   "id": "45a728a8",
   "metadata": {},
   "outputs": [
    {
     "data": {
      "text/plain": [
       "<Response [200]>"
      ]
     },
     "execution_count": 21,
     "metadata": {},
     "output_type": "execute_result"
    }
   ],
   "source": [
    "url"
   ]
  },
  {
   "cell_type": "code",
   "execution_count": 22,
   "id": "1429512b",
   "metadata": {
    "scrolled": false
   },
   "outputs": [],
   "source": [
    "#lets parse the data using html\n",
    "soup=bs(url.content,'html.parser')"
   ]
  },
  {
   "cell_type": "markdown",
   "id": "95cade95",
   "metadata": {},
   "source": [
    "## Movie name \n"
   ]
  },
  {
   "cell_type": "code",
   "execution_count": 23,
   "id": "396bfb40",
   "metadata": {},
   "outputs": [
    {
     "name": "stdout",
     "output_type": "stream",
     "text": [
      "<title>3 Idiots (2009) - IMDb</title>\n",
      "Movie Name : 3 Idiots\n"
     ]
    }
   ],
   "source": [
    "title_element = soup.title\n",
    "print(title_element)\n",
    "title_text = title_element.text.strip().split(' (')[0] if title_element else None\n",
    "\n",
    "print(\"Movie Name :\",title_text)"
   ]
  },
  {
   "cell_type": "markdown",
   "id": "2781b529",
   "metadata": {},
   "source": [
    "## IMDB id"
   ]
  },
  {
   "cell_type": "code",
   "execution_count": 25,
   "id": "1edeb491",
   "metadata": {},
   "outputs": [
    {
     "name": "stdout",
     "output_type": "stream",
     "text": [
      "tt1187043\n"
     ]
    }
   ],
   "source": [
    "parsed_url = urlparse(url_link)\n",
    "# print(parsed_url)\n",
    "query_params = parsed_url.path\n",
    "# print(query_params)\n",
    "cleaned_query=query_params.split('/')\n",
    "url_parts_filtered = [part for part in cleaned_query if part]\n",
    "print(url_parts_filtered[-1])"
   ]
  },
  {
   "cell_type": "markdown",
   "id": "7c06a21a",
   "metadata": {},
   "source": [
    "## Year"
   ]
  },
  {
   "cell_type": "code",
   "execution_count": 20,
   "id": "406c21ec",
   "metadata": {},
   "outputs": [
    {
     "name": "stdout",
     "output_type": "stream",
     "text": [
      "Year: 2009\n"
     ]
    }
   ],
   "source": [
    "imdb_year = soup.find(class_='ipc-inline-list ipc-inline-list--show-dividers sc-d8941411-2 cdJsTz baseAlt')\n",
    "year= imdb_year.find('a')\n",
    "year_text = year.text\n",
    "print(\"Year:\", year_text)"
   ]
  },
  {
   "cell_type": "markdown",
   "id": "821fb262",
   "metadata": {},
   "source": [
    "## Rating\n"
   ]
  },
  {
   "cell_type": "code",
   "execution_count": 21,
   "id": "a1a54c70",
   "metadata": {},
   "outputs": [
    {
     "name": "stdout",
     "output_type": "stream",
     "text": [
      "IMBD : 8.4\n"
     ]
    }
   ],
   "source": [
    "imdb_rating_element = soup.find(class_='sc-bde20123-1 cMEQkK')\n",
    "imdb_rating = imdb_rating_element.text if imdb_rating_element else None\n",
    "print(\"IMBD :\",imdb_rating)"
   ]
  },
  {
   "cell_type": "markdown",
   "id": "9bc8b519",
   "metadata": {},
   "source": [
    "## Genre"
   ]
  },
  {
   "cell_type": "code",
   "execution_count": 22,
   "id": "21bf59df",
   "metadata": {},
   "outputs": [
    {
     "name": "stdout",
     "output_type": "stream",
     "text": [
      "Genres: ['Comedy', 'Drama']\n"
     ]
    }
   ],
   "source": [
    "genres = []\n",
    "for div in soup.find_all('div', class_='ipc-chip-list__scroller'):\n",
    "    for span in div.find_all('span', class_='ipc-chip__text'):\n",
    "        genre = span.text\n",
    "        genres.append(genre)\n",
    "\n",
    "print(\"Genres:\", genres)"
   ]
  },
  {
   "cell_type": "markdown",
   "id": "6bb18c3c",
   "metadata": {},
   "source": [
    "## Top cast"
   ]
  },
  {
   "cell_type": "code",
   "execution_count": 23,
   "id": "e57c83c0",
   "metadata": {},
   "outputs": [
    {
     "name": "stdout",
     "output_type": "stream",
     "text": [
      "['Aamir KhanRancho', 'MadhavanFarhan(as R. Madhavan)', 'Mona SinghMona']\n"
     ]
    }
   ],
   "source": [
    "cast= soup.find(class_='ipc-sub-grid ipc-sub-grid--page-span-2 ipc-sub-grid--wraps-at-above-l ipc-shoveler__grid')\n",
    "top_cast=[]\n",
    "for span in cast.find_all('div', class_='sc-bfec09a1-5 hNfYaW'):\n",
    "    top_cast.append(span.text)\n",
    "print(top_cast[:3])\n"
   ]
  },
  {
   "cell_type": "code",
   "execution_count": null,
   "id": "f485ce24",
   "metadata": {},
   "outputs": [],
   "source": []
  },
  {
   "cell_type": "code",
   "execution_count": null,
   "id": "1ecefe07",
   "metadata": {},
   "outputs": [],
   "source": []
  },
  {
   "cell_type": "markdown",
   "id": "55f18814",
   "metadata": {},
   "source": [
    "#  All in one fucntion -----------------------------------------------"
   ]
  },
  {
   "cell_type": "markdown",
   "id": "78e9a619",
   "metadata": {},
   "source": [
    "# Genres and Top cast pending"
   ]
  },
  {
   "cell_type": "code",
   "execution_count": null,
   "id": "3a0005ca",
   "metadata": {},
   "outputs": [],
   "source": []
  },
  {
   "cell_type": "code",
   "execution_count": 78,
   "id": "236dc7fd",
   "metadata": {},
   "outputs": [
    {
     "name": "stdout",
     "output_type": "stream",
     "text": [
      "3 Idiots\n",
      "tt1187043\n",
      "['3 Idiots']\n",
      "['tt1187043']\n",
      "['2009']\n",
      "['8.4']\n",
      "['Comedy', 'Drama']\n",
      "['Aamir KhanRancho', 'MadhavanFarhan(as R. Madhavan)', 'Mona SinghMona', 'Sharman JoshiRaju', 'Kareena KapoorPia', 'Boman IraniViru Sahastrabudhhe', 'Omi VaidyaChatur', 'Jaaved JaaferiRanchoddas Chanchad(as Javed Jaffrey)', \"Parikshit SahniFarhan's Father(as Pareekshit Sahani)\", 'Olivier LafontSuhas(as Sanjay Lafont)', 'Rahul KumarMillimeter', \"Amardeep JhaRaju's Mother\", \"Farida DadiFarhan's Mother\", \"Mukund BhattRaju's Father\", \"Chaitali BoseRaju's Sister\", 'Jayant KripalaniCampus Interview Panel Head(as Jayant Kriplani)', 'Arun BaliShamaldas Chanchad(as Aron Baali)', 'Shoaib AhmedChhote']\n",
      "{'Title': ['3 Idiots'], 'IMDB id': 'tt1187043', 'Year': '2009', 'Rating': '8.4', 'Genre': 'Comedy, Drama', 'Top_cast': 'Aamir KhanRancho, MadhavanFarhan(as R. Madhavan), Mona SinghMona'}\n",
      "Like Stars on Earth\n",
      "tt0986264\n",
      "['3 Idiots', 'Taare Zameen Par']\n",
      "['tt1187043', 'tt0986264']\n",
      "['2009', '2007']\n",
      "['8.4', '8.3']\n",
      "['Drama', 'Family']\n",
      "['Darsheel SafaryIshaan', 'Aamir KhanNikumbh Sir', 'Tanay ChhedaRajan', 'Sachet EngineerYohan', 'Tisca ChopraMother', 'Vipin SharmaFather', \"Lalitha LajmiArt Mela's Chief Guest\", 'Girija OakJabeen(as Girija)', 'Ravi KhanvilkarMr. Holkar(as Ravi Khanwelkar)', \"Pratima V. KulkarniPrincipal - St. Anthony's School(as Pratima Kulkarni)\", 'Meghna MalikVictoria Teacher', 'Sonali SachdevIrene Teacher', 'Sanjay DadhichMaadhoo(as Sanjay Dadich)', 'Rajgopal IyerGeorge Sir(as Raaj Gopal Iyer)', 'Bugs Bhargava KrishnaSen Sir(as Bugs Bhargava)', 'Shankar SachdevTiwari Sir', 'M.K. RainaHeadmaster', 'GurkirtanHousemaster(as Gurkirtan Chauhan)']\n",
      "{'Title': ['3 Idiots', 'Taare Zameen Par'], 'IMDB id': 'tt0986264', 'Year': '2007', 'Rating': '8.3', 'Genre': 'Drama, Family', 'Top_cast': 'Darsheel SafaryIshaan, Aamir KhanNikumbh Sir, Tanay ChhedaRajan'}\n",
      "PK\n",
      "tt2338151\n",
      "['3 Idiots', 'Taare Zameen Par', 'PK']\n",
      "['tt1187043', 'tt0986264', 'tt2338151']\n",
      "['2009', '2007', '2014']\n",
      "['8.4', '8.3', '8.1']\n",
      "['Comedy', 'Drama', 'Sci-Fi']\n",
      "['Aamir KhanPK', 'Anushka SharmaJagat Janani Sahni (Jaggu)', 'Sanjay DuttBhairon Singh', 'Boman IraniCherry Bajwa', 'Saurabh ShuklaTapasvi Maharaj', 'Sushant Singh RajputSarfaraz Yusuf', \"Parikshit SahniJaggu's father\", \"Amardeep JhaJaggu's mother\", \"Plabita BorthakurJaggu's sister\", 'Maanvi GagrooMitu', 'Tia SharmaYoung Jaggu', 'Sanjiv KishinchandaniDentist', 'Rajinder Sharma NanuThief(as Rajinder Sharma)', \"Sachin ParikhTapasvi's manager\", 'Ram SethiElderly Man in Belgium', \"Shaji ChaudharyTapasviji's Bodygaurd\", 'Ignace De GrooteBelgium security guard', \"Donder In t' HooiMusicians in the Boat(as Group)\"]\n",
      "{'Title': ['3 Idiots', 'Taare Zameen Par', 'PK'], 'IMDB id': 'tt2338151', 'Year': '2014', 'Rating': '8.1', 'Genre': 'Comedy, Drama, Sci-Fi', 'Top_cast': 'Aamir KhanPK, Anushka SharmaJagat Janani Sahni (Jaggu), Sanjay DuttBhairon Singh'}\n",
      "Dangal\n",
      "tt5074352\n",
      "['3 Idiots', 'Taare Zameen Par', 'PK', 'Dangal']\n",
      "['tt1187043', 'tt0986264', 'tt2338151', 'tt5074352']\n",
      "['2009', '2007', '2014', '2016']\n",
      "['8.4', '8.3', '8.1', '8.3']\n",
      "['Action', 'Biography', 'Drama']\n",
      "['Aamir KhanMahavir Singh Phogat', 'Sakshi TanwarDaya Kaur', 'Fatima Sana ShaikhGeeta Phogat', 'Sanya MalhotraBabita Kumari', 'Aparshakti KhuranaOmkar', 'Zaira WasimYoung Geeta', 'Suhani BhatnagarYoung Babita', 'Ritvik SahoreYoung Omkar(as Ritwik Sahore)', 'Girish KulkarniCoach Pramod Kadam', 'Ravi AnejaReferee', \"Anurag AroraMahavir's Brother\", 'Mahesh BalrajOrganiser', 'Vivan BhatenaHarkinder', 'Anmol CharanLittle Omkar', 'Karamveer ChoudharyFather of Mahaveer Singh Fogat', 'Ishika GagnejaSunita', 'Badrul IslamChicken Shop owner', 'JagbirGovernment Officer']\n",
      "{'Title': ['3 Idiots', 'Taare Zameen Par', 'PK', 'Dangal'], 'IMDB id': 'tt5074352', 'Year': '2016', 'Rating': '8.3', 'Genre': 'Action, Biography, Drama', 'Top_cast': 'Aamir KhanMahavir Singh Phogat, Sakshi TanwarDaya Kaur, Fatima Sana ShaikhGeeta Phogat'}\n",
      "Rang De Basanti\n",
      "tt0405508\n",
      "['3 Idiots', 'Taare Zameen Par', 'PK', 'Dangal', 'Rang De Basanti']\n",
      "['tt1187043', 'tt0986264', 'tt2338151', 'tt5074352', 'tt0405508']\n",
      "['2009', '2007', '2014', '2016', '2006']\n",
      "['8.4', '8.3', '8.1', '8.3', '8.1']\n",
      "['Comedy', 'Crime', 'Drama']\n",
      "[\"Aamir KhanDaljeet 'DJ'…\", 'Soha Ali KhanSonia(as Soha Ali Khan Pataudi)…', 'SiddharthKaran R. Singhania…', 'Sharman JoshiSukhi…', 'Kunal KapoorAslam…', 'Atul KulkarniLaxman Pandey…', 'Alice PattenSue McKinley', 'MadhavanFlight Lt. Ajay Rathod(as R. Madhavan)', 'Waheeda RehmanMrs. Rathod', 'Anupam KherRajnath Singhania', 'Kirron KherMitro(as Kiron Kher)…', 'Om PuriAmanullah Khan…', 'Steven MackintoshMr. McKinley', \"Lekh TandonDJ's Grandfather\", 'Cyrus SahukarRahul', 'Mohan AgasheDefence Minister Shashtri', 'Asif Ali BaigOfficer', 'Abhishek BanerjeeCollege guy in audition']\n",
      "{'Title': ['3 Idiots', 'Taare Zameen Par', 'PK', 'Dangal', 'Rang De Basanti'], 'IMDB id': 'tt0405508', 'Year': '2006', 'Rating': '8.1', 'Genre': 'Comedy, Crime, Drama', 'Top_cast': \"Aamir KhanDaljeet 'DJ'…, Soha Ali KhanSonia(as Soha Ali Khan Pataudi)…, SiddharthKaran R. Singhania…\"}\n",
      "Uploaded SUCCESSFULLY\n"
     ]
    }
   ],
   "source": [
    "import requests\n",
    "from bs4 import BeautifulSoup\n",
    "from urllib.parse import urlparse\n",
    "import pandas as pd\n",
    "\n",
    "def get_movie_info(url_link,movie_titles):\n",
    "    headers = {'User-Agent': 'Mozilla/5.0'}\n",
    "    url = requests.get(url_link, headers=headers)\n",
    "    soup = BeautifulSoup(url.content, 'html.parser')\n",
    "    \n",
    "#     script_tag = soup.find('script', type='application/ld+json')\n",
    "    script_tag_next = soup.find('script', {'type': 'application/json', 'id': '__NEXT_DATA__'})\n",
    "    json_content = json.loads(script_tag_next.string)\n",
    "#     print(\"json_content---->\",json_content)\n",
    "\n",
    "    # Extracting id inside titleResults\n",
    "    title_results = json_content['props']['pageProps']['titleResults']\n",
    "    results_ids = [result['id'] for result in title_results['results']]\n",
    "    print(results_ids[0])\n",
    "  \n",
    "    #TO GO TO SPECIFIC MOVIE PAGE\n",
    "    url_link=f\"https://www.imdb.com/title/{results_ids[0]}\"\n",
    "    url=requests.get(url_link,headers=headers)\n",
    "    soup=bs(url.content,'html.parser')\n",
    "    \n",
    "    \n",
    "    # Movie Name\n",
    "    title_element = soup.title\n",
    "    title_text = title_element.text.strip().split(' (')[0] if title_element else None\n",
    "    movie_titles.append(title_text)\n",
    "    print(movie_titles)\n",
    "    \n",
    "    # IMDB id\n",
    "    parsed_url = urlparse(url_link)\n",
    "    query_params = parsed_url.path\n",
    "    cleaned_query = query_params.split('/')\n",
    "    url_parts_filtered = [part for part in cleaned_query if part]\n",
    "    imdb_id = url_parts_filtered[-1]\n",
    "    imdb_ids.append(imdb_id)\n",
    "    print(imdb_ids)\n",
    "    \n",
    "    # Year\n",
    "    imdb_year = soup.find(class_='ipc-inline-list ipc-inline-list--show-dividers sc-d8941411-2 cdJsTz baseAlt')\n",
    "    year = imdb_year.find('a').text if imdb_year else None\n",
    "    movie_year.append(year)\n",
    "    print(movie_year)\n",
    "    \n",
    "    # Rating\n",
    "    imdb_rating_element = soup.find(class_='sc-bde20123-1 cMEQkK')\n",
    "    imdb_rating = imdb_rating_element.text if imdb_rating_element else None\n",
    "    movie_rating.append(imdb_rating)\n",
    "    print(movie_rating)\n",
    "    \n",
    "    # Genre\n",
    "    genres = []\n",
    "    for div in soup.find_all('div', class_='ipc-chip-list__scroller'):\n",
    "        for span in div.find_all('span', class_='ipc-chip__text'):\n",
    "            genre = span.text\n",
    "            genres.append(genre)\n",
    "    print(genres)\n",
    "    \n",
    "    # Top cast\n",
    "    top_cast = []\n",
    "    cast = soup.find(class_='ipc-sub-grid ipc-sub-grid--page-span-2 ipc-sub-grid--wraps-at-above-l ipc-shoveler__grid')\n",
    "    if cast:\n",
    "        for span in cast.find_all('div', class_='sc-bfec09a1-5 hNfYaW'):\n",
    "            top_cast.append(span.text)\n",
    "    print(top_cast)\n",
    "    \n",
    "    return {\n",
    "        'Title': movie_titles,\n",
    "        'IMDB id': imdb_id,\n",
    "        'Year': year,\n",
    "        'Rating': imdb_rating,\n",
    "        'Genre': ', '.join(genres),\n",
    "        'Top_cast': ', '.join(top_cast[:3])  # Limiting to top 3 cast members\n",
    "    }\n",
    "\n",
    "\n",
    "# url_link = \"https://www.imdb.com/title/tt0871510/?ref_=nv_sr_srsg_0_tt_7_nm_1_q_chak\"\n",
    "existing_df = pd.read_csv('testing.csv')\n",
    "\n",
    "# Iterate over each row and update information\n",
    "updated_rows = []\n",
    "movie_titles=[]\n",
    "imdb_ids=[]\n",
    "movie_year=[]\n",
    "movie_rating=[]\n",
    "movie_genere=[]\n",
    "\n",
    "for index, row in existing_df.iterrows():\n",
    "    title = row['Title']\n",
    "    print(title)\n",
    "    url_link=f\"https://www.imdb.com/find/?q={title}&ref_=nv_sr_sm\"\n",
    "    movie_info = get_movie_info(url_link,movie_titles)\n",
    "    print(movie_info)\n",
    "    # Creating DataFrame from the dictionary\n",
    "#     df = pd.DataFrame([movie_info])\n",
    "#     df.to_csv('movie_info.csv', mode='a', header=True, index=False)\n",
    "# df.to_csv(file_path, mode='a', header=True, index=False, columns=['Title', 'Year', 'Genre'])\n",
    "print(\"Uploaded SUCCESSFULLY\")\n"
   ]
  },
  {
   "cell_type": "code",
   "execution_count": null,
   "id": "6eb778f6",
   "metadata": {},
   "outputs": [],
   "source": []
  },
  {
   "cell_type": "code",
   "execution_count": null,
   "id": "b17bdf3c",
   "metadata": {},
   "outputs": [],
   "source": []
  },
  {
   "cell_type": "code",
   "execution_count": null,
   "id": "f4b91ad6",
   "metadata": {},
   "outputs": [],
   "source": []
  },
  {
   "cell_type": "code",
   "execution_count": null,
   "id": "bb27f06a",
   "metadata": {},
   "outputs": [],
   "source": []
  },
  {
   "cell_type": "code",
   "execution_count": null,
   "id": "ac88e293",
   "metadata": {},
   "outputs": [],
   "source": []
  },
  {
   "cell_type": "code",
   "execution_count": null,
   "id": "14380ec4",
   "metadata": {},
   "outputs": [],
   "source": []
  },
  {
   "cell_type": "code",
   "execution_count": null,
   "id": "f7d98235",
   "metadata": {},
   "outputs": [],
   "source": []
  },
  {
   "cell_type": "code",
   "execution_count": null,
   "id": "eaf9667e",
   "metadata": {},
   "outputs": [],
   "source": []
  },
  {
   "cell_type": "code",
   "execution_count": null,
   "id": "70960acf",
   "metadata": {},
   "outputs": [],
   "source": []
  },
  {
   "cell_type": "code",
   "execution_count": null,
   "id": "fbc4b08f",
   "metadata": {},
   "outputs": [],
   "source": []
  },
  {
   "cell_type": "code",
   "execution_count": null,
   "id": "15fd4e6f",
   "metadata": {},
   "outputs": [],
   "source": []
  },
  {
   "cell_type": "code",
   "execution_count": null,
   "id": "0501073f",
   "metadata": {},
   "outputs": [],
   "source": []
  },
  {
   "cell_type": "code",
   "execution_count": null,
   "id": "26d9a7a8",
   "metadata": {},
   "outputs": [],
   "source": []
  },
  {
   "cell_type": "code",
   "execution_count": null,
   "id": "6fe29b7d",
   "metadata": {},
   "outputs": [],
   "source": []
  },
  {
   "cell_type": "code",
   "execution_count": null,
   "id": "a895a83d",
   "metadata": {},
   "outputs": [],
   "source": []
  },
  {
   "cell_type": "code",
   "execution_count": null,
   "id": "bfdeae2b",
   "metadata": {},
   "outputs": [],
   "source": []
  },
  {
   "cell_type": "code",
   "execution_count": null,
   "id": "cd095e8e",
   "metadata": {},
   "outputs": [],
   "source": []
  },
  {
   "cell_type": "code",
   "execution_count": null,
   "id": "764315d6",
   "metadata": {},
   "outputs": [],
   "source": []
  },
  {
   "cell_type": "code",
   "execution_count": null,
   "id": "3ffa97ec",
   "metadata": {},
   "outputs": [],
   "source": []
  },
  {
   "cell_type": "code",
   "execution_count": null,
   "id": "02b1a78f",
   "metadata": {},
   "outputs": [],
   "source": []
  },
  {
   "cell_type": "code",
   "execution_count": null,
   "id": "670c484d",
   "metadata": {},
   "outputs": [],
   "source": []
  },
  {
   "cell_type": "code",
   "execution_count": null,
   "id": "4698ebab",
   "metadata": {},
   "outputs": [],
   "source": []
  },
  {
   "cell_type": "code",
   "execution_count": null,
   "id": "70ee5f60",
   "metadata": {},
   "outputs": [],
   "source": []
  },
  {
   "cell_type": "code",
   "execution_count": null,
   "id": "66f2f44c",
   "metadata": {},
   "outputs": [],
   "source": []
  },
  {
   "cell_type": "code",
   "execution_count": null,
   "id": "73f49155",
   "metadata": {},
   "outputs": [],
   "source": []
  },
  {
   "cell_type": "code",
   "execution_count": null,
   "id": "ba786ac3",
   "metadata": {},
   "outputs": [],
   "source": []
  },
  {
   "cell_type": "code",
   "execution_count": null,
   "id": "57479379",
   "metadata": {},
   "outputs": [],
   "source": []
  },
  {
   "cell_type": "code",
   "execution_count": null,
   "id": "faf1e197",
   "metadata": {},
   "outputs": [],
   "source": []
  },
  {
   "cell_type": "markdown",
   "id": "e2de50ce",
   "metadata": {},
   "source": [
    "#  not-working on existing csv file----------------------------------------------"
   ]
  },
  {
   "cell_type": "code",
   "execution_count": 38,
   "id": "1863be42",
   "metadata": {},
   "outputs": [],
   "source": [
    "import requests\n",
    "from bs4 import BeautifulSoup\n",
    "from urllib.parse import urlparse\n",
    "import pandas as pd\n",
    "\n",
    "def get_movie_info(title):\n",
    "    url_link = \"https://www.imdb.com/find?q=\" + title.replace(' ', '+')\n",
    "    headers = {'User-Agent': 'Mozilla/5.0'}\n",
    "    url = requests.get(url_link, headers=headers)\n",
    "    soup = BeautifulSoup(url.content, 'html.parser')\n",
    "    \n",
    "    \n",
    "\n",
    "    # IMDb id\n",
    "    imdb_id = None\n",
    "    imdb_link = soup.find('td', class_='result_text').find('a')['href'] if soup.find('td', class_='result_text') else None\n",
    "    if imdb_link:\n",
    "        parsed_url = urlparse(imdb_link)\n",
    "        query_params = parsed_url.path\n",
    "        imdb_id = query_params.split('/')[2] if query_params else None\n",
    "\n",
    "    # Year\n",
    "    year = None\n",
    "    year_tag = soup.find('span', class_='lister-item-year')\n",
    "    if year_tag:\n",
    "        year = year_tag.text.strip()\n",
    "\n",
    "    # Rating\n",
    "    rating = None\n",
    "    rating_tag = soup.find('div', class_='ratingValue')\n",
    "    if rating_tag:\n",
    "        rating = rating_tag.find('strong').text.strip()\n",
    "\n",
    "    # Genre\n",
    "    genres = None\n",
    "    genre_tags = soup.find_all('span', class_='genre')\n",
    "    if genre_tags:\n",
    "        genres = [tag.text.strip() for tag in genre_tags]\n",
    "\n",
    "    # Top cast\n",
    "    top_cast = None\n",
    "    top_cast_section = soup.find('table', class_='cast_list')\n",
    "    if top_cast_section:\n",
    "        top_cast = [actor.text.strip().replace('\\n', '') for actor in top_cast_section.find_all('td', class_='primary_photo')][:3]\n",
    "\n",
    "    return {\n",
    "        'Title': title,\n",
    "        'IMDB id': imdb_id,\n",
    "        'Year': year,\n",
    "        'Rating': rating,\n",
    "        'Genre': ', '.join(genres) if genres else None,\n",
    "        'Top_cast': ', '.join(top_cast) if top_cast else None\n",
    "    }\n",
    "\n",
    "# Read existing CSV file\n",
    "existing_df = pd.read_csv('testing.csv')\n",
    "\n",
    "# Iterate over each row and update information\n",
    "updated_rows = []\n",
    "for index, row in existing_df.iterrows():\n",
    "    title = row['Title']\n",
    "    movie_info = get_movie_info(title)\n",
    "    updated_rows.append(movie_info)\n",
    "\n",
    "# Create DataFrame from the updated rows\n",
    "updated_df = pd.DataFrame(updated_rows)\n",
    "\n",
    "# Save the updated DataFrame back to the CSV file\n",
    "updated_df.to_csv('existing_movie_info_updated.csv', index=False)\n"
   ]
  },
  {
   "cell_type": "code",
   "execution_count": null,
   "id": "b4a4d0e8",
   "metadata": {},
   "outputs": [],
   "source": []
  },
  {
   "cell_type": "code",
   "execution_count": null,
   "id": "52eaea8f",
   "metadata": {},
   "outputs": [],
   "source": []
  },
  {
   "cell_type": "code",
   "execution_count": null,
   "id": "7a5b0b1f",
   "metadata": {},
   "outputs": [],
   "source": []
  },
  {
   "cell_type": "code",
   "execution_count": null,
   "id": "e7630212",
   "metadata": {},
   "outputs": [],
   "source": []
  }
 ],
 "metadata": {
  "kernelspec": {
   "display_name": "Python 3 (ipykernel)",
   "language": "python",
   "name": "python3"
  },
  "language_info": {
   "codemirror_mode": {
    "name": "ipython",
    "version": 3
   },
   "file_extension": ".py",
   "mimetype": "text/x-python",
   "name": "python",
   "nbconvert_exporter": "python",
   "pygments_lexer": "ipython3",
   "version": "3.11.5"
  }
 },
 "nbformat": 4,
 "nbformat_minor": 5
}
